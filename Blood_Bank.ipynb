{
  "nbformat": 4,
  "nbformat_minor": 0,
  "metadata": {
    "colab": {
      "name": "Blood_Bank.ipynb",
      "provenance": []
    },
    "kernelspec": {
      "name": "python3",
      "display_name": "Python 3"
    },
    "language_info": {
      "name": "python"
    }
  },
  "cells": [
    {
      "cell_type": "code",
      "metadata": {
        "id": "vjK7mfzFZITI"
      },
      "source": [
        "import hashlib\n",
        "import time"
      ],
      "execution_count": 1,
      "outputs": []
    },
    {
      "cell_type": "markdown",
      "metadata": {
        "id": "cDes7QGyZifF"
      },
      "source": [
        "declaring global list of block_chain"
      ]
    },
    {
      "cell_type": "code",
      "metadata": {
        "id": "FqXPNdrtZeYh"
      },
      "source": [
        "global block_chain\n",
        "block_chain=[]  "
      ],
      "execution_count": 2,
      "outputs": []
    },
    {
      "cell_type": "markdown",
      "metadata": {
        "id": "Che4kQx8ZrFb"
      },
      "source": [
        "declaring a dictionary for blood bank"
      ]
    },
    {
      "cell_type": "code",
      "metadata": {
        "id": "Ezbyc3DLZoG4"
      },
      "source": [
        "global blood_bank\n",
        "blood_bank = {\n",
        "    \"Donar Name\" : \"\",\n",
        "    \"Blood_group\" : \"\",\n",
        "    \"Donar_age\" : \"\",\n",
        "    \"Aadhar_ID\" : \"\",\n",
        "    \"Donated_Date\": \"\",\n",
        "    \"Gender\" : \"\",\n",
        "    \"Phone number\" : \"\"\n",
        "}             "
      ],
      "execution_count": 4,
      "outputs": []
    },
    {
      "cell_type": "markdown",
      "metadata": {
        "id": "VIE472jvbEBL"
      },
      "source": [
        "getting data for blood_bank dictionary"
      ]
    },
    {
      "cell_type": "code",
      "metadata": {
        "id": "9BOVOop5bBnH"
      },
      "source": [
        "def get_data():\n",
        "    for item in blood_bank.keys():\n",
        "        blood_bank[item] = str(input(\"enter %s :\"%item))\n",
        "    ans = str(blood_bank)\n",
        "    print(\"YOu have saved a life!\")\n",
        "    return ans  "
      ],
      "execution_count": 7,
      "outputs": []
    },
    {
      "cell_type": "markdown",
      "metadata": {
        "id": "1IrRN0MqbeWv"
      },
      "source": [
        "Hashing the data and returning hash value"
      ]
    },
    {
      "cell_type": "code",
      "metadata": {
        "id": "R8Qk6dv5bT2B"
      },
      "source": [
        "class neuralBlock:\n",
        "    def __init__(self,frontBlock,currentBlock):\n",
        "        self.frontBlock = frontBlock\n",
        "        self.currentBlock = currentBlock\n",
        "        \n",
        "        self.hashData = \"-\".join(currentBlock)+\"-\"+frontBlock\n",
        "        self.hashEncrypt = hashlib.sha512(self.hashData.encode()).hexdigest()\n",
        "\n",
        "def createBlock(prevHash,Data):\n",
        "    a = neuralBlock(prevHash,Data)\n",
        "    return a.hashEncrypt"
      ],
      "execution_count": 6,
      "outputs": []
    },
    {
      "cell_type": "markdown",
      "metadata": {
        "id": "rRZwm3MobxE5"
      },
      "source": [
        "function to create blocks in the block chain"
      ]
    },
    {
      "cell_type": "code",
      "metadata": {
        "id": "aJjt1Mo2bu0N"
      },
      "source": [
        "def new_block():\n",
        "    l = []\n",
        "    if(len(block_chain) == 0):\n",
        "        key = input(\"Enter genesis new key :\")\n",
        "        value = get_data()\n",
        "        ans = createBlock(key,value)\n",
        "    else:\n",
        "        value = get_data()\n",
        "        ans = createBlock(block_chain[-1][0],value)\n",
        "    t = time.ctime(time.time())\n",
        "    l.append(ans)\n",
        "    l.append(t)\n",
        "    block_chain.append(l) "
      ],
      "execution_count": null,
      "outputs": []
    }
  ]
}